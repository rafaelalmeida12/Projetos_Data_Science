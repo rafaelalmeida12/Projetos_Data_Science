{
  "nbformat": 4,
  "nbformat_minor": 0,
  "metadata": {
    "colab": {
      "name": "Titanic.ipynb",
      "provenance": [],
      "collapsed_sections": [],
      "authorship_tag": "ABX9TyOfTxUp9zAIAkDphpXL0sp8",
      "include_colab_link": true
    },
    "kernelspec": {
      "name": "python3",
      "display_name": "Python 3"
    }
  },
  "cells": [
    {
      "cell_type": "markdown",
      "metadata": {
        "id": "view-in-github",
        "colab_type": "text"
      },
      "source": [
        "<a href=\"https://colab.research.google.com/github/rafaelalmeida12/Projetos_Data_Science/blob/master/Titanic.ipynb\" target=\"_parent\"><img src=\"https://colab.research.google.com/assets/colab-badge.svg\" alt=\"Open In Colab\"/></a>"
      ]
    },
    {
      "cell_type": "markdown",
      "metadata": {
        "id": "iIA0Lmrj76xM",
        "colab_type": "text"
      },
      "source": [
        "# Desafio Titanic : O hello world do  Data Science\n",
        "\n",
        "Este é um dos desafio mais conhecidos do site [Kaggle](https://https://www.kaggle.com/) e também famoso por ser o hello world para quem esta iniciando no mundo do data science .\n",
        "\n",
        "A competição é simples: usa o aprendizado de máquina para criar um modelo que prevê quais passageiros sobreviveram ao naufrágio do Titanic.\n",
        "\n",
        "Como todo bom analista a primeira coisa a se fazer e conhecer a regra de negócio com qual dados você está trabalhando e aplicar um chechlist de tarefas , etapas para que seu projeto seja realizado .\n",
        "\n",
        " **Checklist**\n",
        "\n",
        "1.  Definição do Problema\n",
        "2.  Obtenção dos Dados\n",
        "3.  Exploração dos Dados\n",
        "4.  Preparação dos Dados\n",
        "5.  Construção do Modelo\n",
        "6.  Avaliação\n",
        "\n",
        "**1.Definição do Problema**\n",
        "\n",
        "O naufrágio do Titanic é um dos naufrágios mais infames da história.\n",
        "\n",
        "Em 15 de abril de 1912, durante sua viagem inaugural, o amplamente considerado \"inafundável\" RMS Titanic afundou após colidir com um iceberg. Infelizmente, não havia botes salva-vidas suficientes para todos a bordo, resultando na morte de 1502 dos 2224 passageiros e tripulantes.\n",
        "\n",
        "Embora houvesse algum elemento de sorte envolvido na sobrevivência, parece que alguns grupos de pessoas eram mais propensos a sobreviver do que outros.\n",
        "\n",
        "\n",
        "\n",
        "\n",
        "\n",
        "\n",
        "\n"
      ]
    },
    {
      "cell_type": "markdown",
      "metadata": {
        "id": "TxP7lgOrDWh5",
        "colab_type": "text"
      },
      "source": [
        "**2.Obtenção dos Dados**\n",
        "\n",
        "Para participar do desafio você precisará cadastras no [Kaggle](https://https://www.kaggle.com/) após o cadastro poderá participar do desafio e baixar os dados \n",
        "[Desafio Titanic](https://https://www.kaggle.com/c/titanic/data).\n",
        "\n",
        "![Site]('kage.jpg')\n",
        "\n",
        "Como IDE (Ambiente de desenvolvimento integrado) para exploração dos dados usaremos o Google Colab .\n",
        "\n",
        "**3.Exploração dos Dados**\n",
        "\n",
        "Documentação das bibliotecas:\n",
        "\n",
        "[Pandas](https://pandas.pydata.org/docs/)\n",
        "\n",
        "[matplotlib](https://matplotlib.org/)\n",
        "\n",
        "[seaborn](https://seaborn.pydata.org/)\n",
        "\n",
        "[numpy](https://numpy.org/doc/)"
      ]
    },
    {
      "cell_type": "code",
      "metadata": {
        "id": "lHS5MxA7BrlS",
        "colab_type": "code",
        "colab": {}
      },
      "source": [
        "#Importando as bibliotecas que iremos utilizar \n",
        "import pandas as pd\n",
        "import matplotlib.pyplot as plt\n",
        "import seaborn as sns\n",
        "import numpy as np"
      ],
      "execution_count": 0,
      "outputs": []
    },
    {
      "cell_type": "code",
      "metadata": {
        "id": "DF4WjW8e9_CY",
        "colab_type": "code",
        "colab": {}
      },
      "source": [
        "#Importar nossos arquivos com o Pandas \n",
        "treino= pd.read_csv('train.csv')\n",
        "teste = pd.read_csv('test.csv')"
      ],
      "execution_count": 0,
      "outputs": []
    },
    {
      "cell_type": "code",
      "metadata": {
        "id": "-nxlExK2CSah",
        "colab_type": "code",
        "outputId": "bc0b42e4-cdfa-4551-b80e-e36c052af6cc",
        "colab": {
          "base_uri": "https://localhost:8080/",
          "height": 221
        }
      },
      "source": [
        "# Verificar se possui dados nulo \n",
        "treino.isnull().sum()"
      ],
      "execution_count": 0,
      "outputs": [
        {
          "output_type": "execute_result",
          "data": {
            "text/plain": [
              "PassengerId      0\n",
              "Pclass           0\n",
              "Name             0\n",
              "Sex              0\n",
              "Age            177\n",
              "SibSp            0\n",
              "Parch            0\n",
              "Ticket           0\n",
              "Fare             0\n",
              "Cabin          687\n",
              "Embarked         2\n",
              "dtype: int64"
            ]
          },
          "metadata": {
            "tags": []
          },
          "execution_count": 49
        }
      ]
    },
    {
      "cell_type": "markdown",
      "metadata": {
        "id": "Hr9Y4lDpGO_S",
        "colab_type": "text"
      },
      "source": [
        "Foi verificado que a base de dados não está 100% completa a coluna 'Age',       'Cabin' e  'Embarked'   possui alguns dados nulos.\n",
        "À varias formas de tratar dados nulos , você pode excluir as linhas , que não seria uma boa ideia dependendo do seu caso excluir uma linha so por causa de uma coluna , ou pode se aplicar funções matemáticas como (Média,Media,Valor mais recorrente). Cabe a você como Data Science procurar a melhor destre as opções.  "
      ]
    },
    {
      "cell_type": "code",
      "metadata": {
        "id": "GnxEuNgEC_9N",
        "colab_type": "code",
        "outputId": "8f448c55-10de-4366-baee-bbebe5f65bec",
        "colab": {
          "base_uri": "https://localhost:8080/",
          "height": 297
        }
      },
      "source": [
        "treino.describe()"
      ],
      "execution_count": 0,
      "outputs": [
        {
          "output_type": "execute_result",
          "data": {
            "text/html": [
              "<div>\n",
              "<style scoped>\n",
              "    .dataframe tbody tr th:only-of-type {\n",
              "        vertical-align: middle;\n",
              "    }\n",
              "\n",
              "    .dataframe tbody tr th {\n",
              "        vertical-align: top;\n",
              "    }\n",
              "\n",
              "    .dataframe thead th {\n",
              "        text-align: right;\n",
              "    }\n",
              "</style>\n",
              "<table border=\"1\" class=\"dataframe\">\n",
              "  <thead>\n",
              "    <tr style=\"text-align: right;\">\n",
              "      <th></th>\n",
              "      <th>PassengerId</th>\n",
              "      <th>Survived</th>\n",
              "      <th>Pclass</th>\n",
              "      <th>Age</th>\n",
              "      <th>SibSp</th>\n",
              "      <th>Parch</th>\n",
              "      <th>Fare</th>\n",
              "    </tr>\n",
              "  </thead>\n",
              "  <tbody>\n",
              "    <tr>\n",
              "      <th>count</th>\n",
              "      <td>891.000000</td>\n",
              "      <td>891.000000</td>\n",
              "      <td>891.000000</td>\n",
              "      <td>714.000000</td>\n",
              "      <td>891.000000</td>\n",
              "      <td>891.000000</td>\n",
              "      <td>891.000000</td>\n",
              "    </tr>\n",
              "    <tr>\n",
              "      <th>mean</th>\n",
              "      <td>446.000000</td>\n",
              "      <td>0.383838</td>\n",
              "      <td>2.308642</td>\n",
              "      <td>29.699118</td>\n",
              "      <td>0.523008</td>\n",
              "      <td>0.381594</td>\n",
              "      <td>32.204208</td>\n",
              "    </tr>\n",
              "    <tr>\n",
              "      <th>std</th>\n",
              "      <td>257.353842</td>\n",
              "      <td>0.486592</td>\n",
              "      <td>0.836071</td>\n",
              "      <td>14.526497</td>\n",
              "      <td>1.102743</td>\n",
              "      <td>0.806057</td>\n",
              "      <td>49.693429</td>\n",
              "    </tr>\n",
              "    <tr>\n",
              "      <th>min</th>\n",
              "      <td>1.000000</td>\n",
              "      <td>0.000000</td>\n",
              "      <td>1.000000</td>\n",
              "      <td>0.420000</td>\n",
              "      <td>0.000000</td>\n",
              "      <td>0.000000</td>\n",
              "      <td>0.000000</td>\n",
              "    </tr>\n",
              "    <tr>\n",
              "      <th>25%</th>\n",
              "      <td>223.500000</td>\n",
              "      <td>0.000000</td>\n",
              "      <td>2.000000</td>\n",
              "      <td>20.125000</td>\n",
              "      <td>0.000000</td>\n",
              "      <td>0.000000</td>\n",
              "      <td>7.910400</td>\n",
              "    </tr>\n",
              "    <tr>\n",
              "      <th>50%</th>\n",
              "      <td>446.000000</td>\n",
              "      <td>0.000000</td>\n",
              "      <td>3.000000</td>\n",
              "      <td>28.000000</td>\n",
              "      <td>0.000000</td>\n",
              "      <td>0.000000</td>\n",
              "      <td>14.454200</td>\n",
              "    </tr>\n",
              "    <tr>\n",
              "      <th>75%</th>\n",
              "      <td>668.500000</td>\n",
              "      <td>1.000000</td>\n",
              "      <td>3.000000</td>\n",
              "      <td>38.000000</td>\n",
              "      <td>1.000000</td>\n",
              "      <td>0.000000</td>\n",
              "      <td>31.000000</td>\n",
              "    </tr>\n",
              "    <tr>\n",
              "      <th>max</th>\n",
              "      <td>891.000000</td>\n",
              "      <td>1.000000</td>\n",
              "      <td>3.000000</td>\n",
              "      <td>80.000000</td>\n",
              "      <td>8.000000</td>\n",
              "      <td>6.000000</td>\n",
              "      <td>512.329200</td>\n",
              "    </tr>\n",
              "  </tbody>\n",
              "</table>\n",
              "</div>"
            ],
            "text/plain": [
              "       PassengerId    Survived      Pclass  ...       SibSp       Parch        Fare\n",
              "count   891.000000  891.000000  891.000000  ...  891.000000  891.000000  891.000000\n",
              "mean    446.000000    0.383838    2.308642  ...    0.523008    0.381594   32.204208\n",
              "std     257.353842    0.486592    0.836071  ...    1.102743    0.806057   49.693429\n",
              "min       1.000000    0.000000    1.000000  ...    0.000000    0.000000    0.000000\n",
              "25%     223.500000    0.000000    2.000000  ...    0.000000    0.000000    7.910400\n",
              "50%     446.000000    0.000000    3.000000  ...    0.000000    0.000000   14.454200\n",
              "75%     668.500000    1.000000    3.000000  ...    1.000000    0.000000   31.000000\n",
              "max     891.000000    1.000000    3.000000  ...    8.000000    6.000000  512.329200\n",
              "\n",
              "[8 rows x 7 columns]"
            ]
          },
          "metadata": {
            "tags": []
          },
          "execution_count": 7
        }
      ]
    },
    {
      "cell_type": "markdown",
      "metadata": {
        "id": "2sRHN7bdIla-",
        "colab_type": "text"
      },
      "source": [
        "O describe é uma função que aplica funções matemáticas em cada coluna podemos vê que temos 891 passageiros a metade deles equivale a 446 e demais ."
      ]
    },
    {
      "cell_type": "code",
      "metadata": {
        "id": "qFn71joqDcFG",
        "colab_type": "code",
        "outputId": "a06b13c1-8936-4f6e-dbae-8513e05085b5",
        "colab": {
          "base_uri": "https://localhost:8080/",
          "height": 873
        }
      },
      "source": [
        "treino.hist(figsize=(10,8))"
      ],
      "execution_count": 0,
      "outputs": [
        {
          "output_type": "stream",
          "text": [
            "/usr/local/lib/python3.6/dist-packages/pandas/plotting/_matplotlib/tools.py:307: MatplotlibDeprecationWarning: \n",
            "The rowNum attribute was deprecated in Matplotlib 3.2 and will be removed two minor releases later. Use ax.get_subplotspec().rowspan.start instead.\n",
            "  layout[ax.rowNum, ax.colNum] = ax.get_visible()\n",
            "/usr/local/lib/python3.6/dist-packages/pandas/plotting/_matplotlib/tools.py:307: MatplotlibDeprecationWarning: \n",
            "The colNum attribute was deprecated in Matplotlib 3.2 and will be removed two minor releases later. Use ax.get_subplotspec().colspan.start instead.\n",
            "  layout[ax.rowNum, ax.colNum] = ax.get_visible()\n",
            "/usr/local/lib/python3.6/dist-packages/pandas/plotting/_matplotlib/tools.py:313: MatplotlibDeprecationWarning: \n",
            "The rowNum attribute was deprecated in Matplotlib 3.2 and will be removed two minor releases later. Use ax.get_subplotspec().rowspan.start instead.\n",
            "  if not layout[ax.rowNum + 1, ax.colNum]:\n",
            "/usr/local/lib/python3.6/dist-packages/pandas/plotting/_matplotlib/tools.py:313: MatplotlibDeprecationWarning: \n",
            "The colNum attribute was deprecated in Matplotlib 3.2 and will be removed two minor releases later. Use ax.get_subplotspec().colspan.start instead.\n",
            "  if not layout[ax.rowNum + 1, ax.colNum]:\n"
          ],
          "name": "stderr"
        },
        {
          "output_type": "execute_result",
          "data": {
            "text/plain": [
              "array([[<matplotlib.axes._subplots.AxesSubplot object at 0x7fcf5bb99358>,\n",
              "        <matplotlib.axes._subplots.AxesSubplot object at 0x7fcf5bb68550>,\n",
              "        <matplotlib.axes._subplots.AxesSubplot object at 0x7fcf5bb1a7b8>],\n",
              "       [<matplotlib.axes._subplots.AxesSubplot object at 0x7fcf5bacba20>,\n",
              "        <matplotlib.axes._subplots.AxesSubplot object at 0x7fcf5bafbc88>,\n",
              "        <matplotlib.axes._subplots.AxesSubplot object at 0x7fcf5bb77550>],\n",
              "       [<matplotlib.axes._subplots.AxesSubplot object at 0x7fcf5ba536a0>,\n",
              "        <matplotlib.axes._subplots.AxesSubplot object at 0x7fcf5ba068d0>,\n",
              "        <matplotlib.axes._subplots.AxesSubplot object at 0x7fcf5ba06940>]],\n",
              "      dtype=object)"
            ]
          },
          "metadata": {
            "tags": []
          },
          "execution_count": 8
        },
        {
          "output_type": "display_data",
          "data": {
            "image/png": "[encoded data removed]",
            "text/plain": [
              "<Figure size 720x576 with 9 Axes>"
            ]
          },
          "metadata": {
            "tags": []
          }
        }
      ]
    },
    {
      "cell_type": "markdown",
      "metadata": {
        "id": "AzsYKaRlJBb2",
        "colab_type": "text"
      },
      "source": [
        "Com o histograma por classe podemos vê a variação de cada classe como por exemplo em idade temos um pico entre 18 a 25 anos."
      ]
    },
    {
      "cell_type": "code",
      "metadata": {
        "id": "fBKV2PgcD5Ec",
        "colab_type": "code",
        "outputId": "b7d9a7c0-b14c-4441-c69e-414387b15d9f",
        "colab": {
          "base_uri": "https://localhost:8080/",
          "height": 296
        }
      },
      "source": [
        "fig, (axis1,axis2,axis3)=plt.subplots(1,3, figsize=(12,4))\n",
        "\n",
        "sns.barplot(x='Sex', y='Survived', data=treino, ax=axis1)\n",
        "sns.barplot(x='Pclass', y='Survived', data=treino, ax=axis2)\n",
        "sns.barplot(x='Embarked', y='Survived', data=treino, ax=axis3)"
      ],
      "execution_count": 0,
      "outputs": [
        {
          "output_type": "execute_result",
          "data": {
            "text/plain": [
              "<matplotlib.axes._subplots.AxesSubplot at 0x7fcf5b2fb160>"
            ]
          },
          "metadata": {
            "tags": []
          },
          "execution_count": 9
        },
        {
          "output_type": "display_data",
          "data": {
            "image/png": "[encoded data removed]",
            "text/plain": [
              "<Figure size 864x288 with 3 Axes>"
            ]
          },
          "metadata": {
            "tags": []
          }
        }
      ]
    },
    {
      "cell_type": "markdown",
      "metadata": {
        "id": "1ofDp6vcJie8",
        "colab_type": "text"
      },
      "source": [
        "No barplot comparando com sobrevivente já conseguimos responder algumas perguntas realizadas acima .\n",
        "\n",
        "No primeiro gráfico podemos ver que á três vezes mais mulheres sobreviventes que os homens e que a maioria deles como visto no segundo gráfico são pertencentes a 1° Classe e que embarcaram em C......"
      ]
    },
    {
      "cell_type": "code",
      "metadata": {
        "id": "bGD9C_0XFkhX",
        "colab_type": "code",
        "outputId": "6e5f920a-6fcc-4943-a4c8-dcc228d4ce10",
        "colab": {
          "base_uri": "https://localhost:8080/",
          "height": 242
        }
      },
      "source": [
        "age_survived=sns.FacetGrid(treino,col='Survived')\n",
        "age_survived.map(sns.distplot,'Age')"
      ],
      "execution_count": 0,
      "outputs": [
        {
          "output_type": "execute_result",
          "data": {
            "text/plain": [
              "<seaborn.axisgrid.FacetGrid at 0x7fcf5b3b4080>"
            ]
          },
          "metadata": {
            "tags": []
          },
          "execution_count": 10
        },
        {
          "output_type": "display_data",
          "data": {
            "image/png": "[encoded data removed]",
            "text/plain": [
              "<Figure size 432x216 with 2 Axes>"
            ]
          },
          "metadata": {
            "tags": []
          }
        }
      ]
    },
    {
      "cell_type": "markdown",
      "metadata": {
        "id": "6SvJ__yWKF1a",
        "colab_type": "text"
      },
      "source": [
        "Neste grafico tiramos um insight que no grafico de sobreviventes a um grande pico na idade infantil , predizendo que tiveram também uma prioridade ."
      ]
    },
    {
      "cell_type": "code",
      "metadata": {
        "id": "fhziM6SRJOa1",
        "colab_type": "code",
        "outputId": "d50767cb-34fd-4ea3-a4a7-0b56acb81cfb",
        "colab": {
          "base_uri": "https://localhost:8080/",
          "height": 1000
        }
      },
      "source": [
        "columns=['Parch', 'SibSp', 'Age', 'Pclass']\n",
        "pd.plotting.scatter_matrix(treino[columns],figsize=(15,10))"
      ],
      "execution_count": 0,
      "outputs": [
        {
          "output_type": "stream",
          "text": [
            "/usr/local/lib/python3.6/dist-packages/pandas/plotting/_matplotlib/tools.py:307: MatplotlibDeprecationWarning: \n",
            "The rowNum attribute was deprecated in Matplotlib 3.2 and will be removed two minor releases later. Use ax.get_subplotspec().rowspan.start instead.\n",
            "  layout[ax.rowNum, ax.colNum] = ax.get_visible()\n",
            "/usr/local/lib/python3.6/dist-packages/pandas/plotting/_matplotlib/tools.py:307: MatplotlibDeprecationWarning: \n",
            "The colNum attribute was deprecated in Matplotlib 3.2 and will be removed two minor releases later. Use ax.get_subplotspec().colspan.start instead.\n",
            "  layout[ax.rowNum, ax.colNum] = ax.get_visible()\n",
            "/usr/local/lib/python3.6/dist-packages/pandas/plotting/_matplotlib/tools.py:313: MatplotlibDeprecationWarning: \n",
            "The rowNum attribute was deprecated in Matplotlib 3.2 and will be removed two minor releases later. Use ax.get_subplotspec().rowspan.start instead.\n",
            "  if not layout[ax.rowNum + 1, ax.colNum]:\n",
            "/usr/local/lib/python3.6/dist-packages/pandas/plotting/_matplotlib/tools.py:313: MatplotlibDeprecationWarning: \n",
            "The colNum attribute was deprecated in Matplotlib 3.2 and will be removed two minor releases later. Use ax.get_subplotspec().colspan.start instead.\n",
            "  if not layout[ax.rowNum + 1, ax.colNum]:\n"
          ],
          "name": "stderr"
        },
        {
          "output_type": "execute_result",
          "data": {
            "text/plain": [
              "array([[<matplotlib.axes._subplots.AxesSubplot object at 0x7fcf5893d0f0>,\n",
              "        <matplotlib.axes._subplots.AxesSubplot object at 0x7fcf58907ef0>,\n",
              "        <matplotlib.axes._subplots.AxesSubplot object at 0x7fcf588c2198>,\n",
              "        <matplotlib.axes._subplots.AxesSubplot object at 0x7fcf58877400>],\n",
              "       [<matplotlib.axes._subplots.AxesSubplot object at 0x7fcf588a3da0>,\n",
              "        <matplotlib.axes._subplots.AxesSubplot object at 0x7fcf58863160>,\n",
              "        <matplotlib.axes._subplots.AxesSubplot object at 0x7fcf588154e0>,\n",
              "        <matplotlib.axes._subplots.AxesSubplot object at 0x7fcf587c8828>],\n",
              "       [<matplotlib.axes._subplots.AxesSubplot object at 0x7fcf587c8898>,\n",
              "        <matplotlib.axes._subplots.AxesSubplot object at 0x7fcf587acf60>,\n",
              "        <matplotlib.axes._subplots.AxesSubplot object at 0x7fcf5876c320>,\n",
              "        <matplotlib.axes._subplots.AxesSubplot object at 0x7fcf5871c6a0>],\n",
              "       [<matplotlib.axes._subplots.AxesSubplot object at 0x7fcf586d0a20>,\n",
              "        <matplotlib.axes._subplots.AxesSubplot object at 0x7fcf58682da0>,\n",
              "        <matplotlib.axes._subplots.AxesSubplot object at 0x7fcf5863f160>,\n",
              "        <matplotlib.axes._subplots.AxesSubplot object at 0x7fcf586704e0>]],\n",
              "      dtype=object)"
            ]
          },
          "metadata": {
            "tags": []
          },
          "execution_count": 11
        },
        {
          "output_type": "display_data",
          "data": {
            "image/png": "[encoded data removed]",
            "text/plain": [
              "<Figure size 1080x720 with 16 Axes>"
            ]
          },
          "metadata": {
            "tags": []
          }
        }
      ]
    },
    {
      "cell_type": "markdown",
      "metadata": {
        "id": "EuOd1exaKf7j",
        "colab_type": "text"
      },
      "source": [
        "Este gráfico a primeira visto pode ser muito confuso por ele se comporta de forma diferente é visto em linhas , mais nele podemos tirar algumas conclusões também.\n",
        "Olhando para a coluna de idade 'Age' com a classe 'PcLass' temos um volume maior de idosos na 1° classe e na 3° o pessoal mais jovem ."
      ]
    },
    {
      "cell_type": "code",
      "metadata": {
        "id": "VAszTtCfKPGE",
        "colab_type": "code",
        "outputId": "ec8bcc9b-bf1b-47e7-bfa3-f1515b233ad6",
        "colab": {
          "base_uri": "https://localhost:8080/",
          "height": 337
        }
      },
      "source": [
        "sns.heatmap(treino.corr(),cmap='coolwarm',fmt='.2f',linewidths=0.1,vmax=1.0,square=True,linecolor='white',annot=True)"
      ],
      "execution_count": 0,
      "outputs": [
        {
          "output_type": "execute_result",
          "data": {
            "text/plain": [
              "<matplotlib.axes._subplots.AxesSubplot at 0x7fcf584641d0>"
            ]
          },
          "metadata": {
            "tags": []
          },
          "execution_count": 12
        },
        {
          "output_type": "display_data",
          "data": {
            "image/png": "[encoded data removed]",
            "text/plain": [
              "<Figure size 432x288 with 2 Axes>"
            ]
          },
          "metadata": {
            "tags": []
          }
        }
      ]
    },
    {
      "cell_type": "code",
      "metadata": {
        "id": "iuc7jH1ZLYwm",
        "colab_type": "code",
        "colab": {}
      },
      "source": [
        "treino_idx= treino.shape[0]\n",
        "teste_idx=teste.shape[0]"
      ],
      "execution_count": 0,
      "outputs": []
    },
    {
      "cell_type": "code",
      "metadata": {
        "id": "ODeJ_Dw3-1uk",
        "colab_type": "code",
        "outputId": "5e5eb470-f071-4648-b08e-87d22244145d",
        "colab": {
          "base_uri": "https://localhost:8080/",
          "height": 221
        }
      },
      "source": [
        "passageiroId=teste['PassengerId']\n",
        "passageiroId"
      ],
      "execution_count": 0,
      "outputs": [
        {
          "output_type": "execute_result",
          "data": {
            "text/plain": [
              "0       892\n",
              "1       893\n",
              "2       894\n",
              "3       895\n",
              "4       896\n",
              "       ... \n",
              "413    1305\n",
              "414    1306\n",
              "415    1307\n",
              "416    1308\n",
              "417    1309\n",
              "Name: PassengerId, Length: 418, dtype: int64"
            ]
          },
          "metadata": {
            "tags": []
          },
          "execution_count": 14
        }
      ]
    },
    {
      "cell_type": "code",
      "metadata": {
        "id": "ox9gNRuX-9Tp",
        "colab_type": "code",
        "outputId": "62160aa2-2b74-42d3-8533-8bc1e618e8b9",
        "colab": {
          "base_uri": "https://localhost:8080/",
          "height": 419
        }
      },
      "source": [
        "target= treino.Survived.copy()\n",
        "treino.drop(['Survived'],axis=1,inplace=True)\n",
        "treino"
      ],
      "execution_count": 0,
      "outputs": [
        {
          "output_type": "execute_result",
          "data": {
            "text/html": [
              "<div>\n",
              "<style scoped>\n",
              "    .dataframe tbody tr th:only-of-type {\n",
              "        vertical-align: middle;\n",
              "    }\n",
              "\n",
              "    .dataframe tbody tr th {\n",
              "        vertical-align: top;\n",
              "    }\n",
              "\n",
              "    .dataframe thead th {\n",
              "        text-align: right;\n",
              "    }\n",
              "</style>\n",
              "<table border=\"1\" class=\"dataframe\">\n",
              "  <thead>\n",
              "    <tr style=\"text-align: right;\">\n",
              "      <th></th>\n",
              "      <th>PassengerId</th>\n",
              "      <th>Pclass</th>\n",
              "      <th>Name</th>\n",
              "      <th>Sex</th>\n",
              "      <th>Age</th>\n",
              "      <th>SibSp</th>\n",
              "      <th>Parch</th>\n",
              "      <th>Ticket</th>\n",
              "      <th>Fare</th>\n",
              "      <th>Cabin</th>\n",
              "      <th>Embarked</th>\n",
              "    </tr>\n",
              "  </thead>\n",
              "  <tbody>\n",
              "    <tr>\n",
              "      <th>0</th>\n",
              "      <td>1</td>\n",
              "      <td>3</td>\n",
              "      <td>Braund, Mr. Owen Harris</td>\n",
              "      <td>male</td>\n",
              "      <td>22.0</td>\n",
              "      <td>1</td>\n",
              "      <td>0</td>\n",
              "      <td>A/5 21171</td>\n",
              "      <td>7.2500</td>\n",
              "      <td>NaN</td>\n",
              "      <td>S</td>\n",
              "    </tr>\n",
              "    <tr>\n",
              "      <th>1</th>\n",
              "      <td>2</td>\n",
              "      <td>1</td>\n",
              "      <td>Cumings, Mrs. John Bradley (Florence Briggs Th...</td>\n",
              "      <td>female</td>\n",
              "      <td>38.0</td>\n",
              "      <td>1</td>\n",
              "      <td>0</td>\n",
              "      <td>PC 17599</td>\n",
              "      <td>71.2833</td>\n",
              "      <td>C85</td>\n",
              "      <td>C</td>\n",
              "    </tr>\n",
              "    <tr>\n",
              "      <th>2</th>\n",
              "      <td>3</td>\n",
              "      <td>3</td>\n",
              "      <td>Heikkinen, Miss. Laina</td>\n",
              "      <td>female</td>\n",
              "      <td>26.0</td>\n",
              "      <td>0</td>\n",
              "      <td>0</td>\n",
              "      <td>STON/O2. 3101282</td>\n",
              "      <td>7.9250</td>\n",
              "      <td>NaN</td>\n",
              "      <td>S</td>\n",
              "    </tr>\n",
              "    <tr>\n",
              "      <th>3</th>\n",
              "      <td>4</td>\n",
              "      <td>1</td>\n",
              "      <td>Futrelle, Mrs. Jacques Heath (Lily May Peel)</td>\n",
              "      <td>female</td>\n",
              "      <td>35.0</td>\n",
              "      <td>1</td>\n",
              "      <td>0</td>\n",
              "      <td>113803</td>\n",
              "      <td>53.1000</td>\n",
              "      <td>C123</td>\n",
              "      <td>S</td>\n",
              "    </tr>\n",
              "    <tr>\n",
              "      <th>4</th>\n",
              "      <td>5</td>\n",
              "      <td>3</td>\n",
              "      <td>Allen, Mr. William Henry</td>\n",
              "      <td>male</td>\n",
              "      <td>35.0</td>\n",
              "      <td>0</td>\n",
              "      <td>0</td>\n",
              "      <td>373450</td>\n",
              "      <td>8.0500</td>\n",
              "      <td>NaN</td>\n",
              "      <td>S</td>\n",
              "    </tr>\n",
              "    <tr>\n",
              "      <th>...</th>\n",
              "      <td>...</td>\n",
              "      <td>...</td>\n",
              "      <td>...</td>\n",
              "      <td>...</td>\n",
              "      <td>...</td>\n",
              "      <td>...</td>\n",
              "      <td>...</td>\n",
              "      <td>...</td>\n",
              "      <td>...</td>\n",
              "      <td>...</td>\n",
              "      <td>...</td>\n",
              "    </tr>\n",
              "    <tr>\n",
              "      <th>886</th>\n",
              "      <td>887</td>\n",
              "      <td>2</td>\n",
              "      <td>Montvila, Rev. Juozas</td>\n",
              "      <td>male</td>\n",
              "      <td>27.0</td>\n",
              "      <td>0</td>\n",
              "      <td>0</td>\n",
              "      <td>211536</td>\n",
              "      <td>13.0000</td>\n",
              "      <td>NaN</td>\n",
              "      <td>S</td>\n",
              "    </tr>\n",
              "    <tr>\n",
              "      <th>887</th>\n",
              "      <td>888</td>\n",
              "      <td>1</td>\n",
              "      <td>Graham, Miss. Margaret Edith</td>\n",
              "      <td>female</td>\n",
              "      <td>19.0</td>\n",
              "      <td>0</td>\n",
              "      <td>0</td>\n",
              "      <td>112053</td>\n",
              "      <td>30.0000</td>\n",
              "      <td>B42</td>\n",
              "      <td>S</td>\n",
              "    </tr>\n",
              "    <tr>\n",
              "      <th>888</th>\n",
              "      <td>889</td>\n",
              "      <td>3</td>\n",
              "      <td>Johnston, Miss. Catherine Helen \"Carrie\"</td>\n",
              "      <td>female</td>\n",
              "      <td>NaN</td>\n",
              "      <td>1</td>\n",
              "      <td>2</td>\n",
              "      <td>W./C. 6607</td>\n",
              "      <td>23.4500</td>\n",
              "      <td>NaN</td>\n",
              "      <td>S</td>\n",
              "    </tr>\n",
              "    <tr>\n",
              "      <th>889</th>\n",
              "      <td>890</td>\n",
              "      <td>1</td>\n",
              "      <td>Behr, Mr. Karl Howell</td>\n",
              "      <td>male</td>\n",
              "      <td>26.0</td>\n",
              "      <td>0</td>\n",
              "      <td>0</td>\n",
              "      <td>111369</td>\n",
              "      <td>30.0000</td>\n",
              "      <td>C148</td>\n",
              "      <td>C</td>\n",
              "    </tr>\n",
              "    <tr>\n",
              "      <th>890</th>\n",
              "      <td>891</td>\n",
              "      <td>3</td>\n",
              "      <td>Dooley, Mr. Patrick</td>\n",
              "      <td>male</td>\n",
              "      <td>32.0</td>\n",
              "      <td>0</td>\n",
              "      <td>0</td>\n",
              "      <td>370376</td>\n",
              "      <td>7.7500</td>\n",
              "      <td>NaN</td>\n",
              "      <td>Q</td>\n",
              "    </tr>\n",
              "  </tbody>\n",
              "</table>\n",
              "<p>891 rows × 11 columns</p>\n",
              "</div>"
            ],
            "text/plain": [
              "     PassengerId  Pclass  ... Cabin Embarked\n",
              "0              1       3  ...   NaN        S\n",
              "1              2       1  ...   C85        C\n",
              "2              3       3  ...   NaN        S\n",
              "3              4       1  ...  C123        S\n",
              "4              5       3  ...   NaN        S\n",
              "..           ...     ...  ...   ...      ...\n",
              "886          887       2  ...   NaN        S\n",
              "887          888       1  ...   B42        S\n",
              "888          889       3  ...   NaN        S\n",
              "889          890       1  ...  C148        C\n",
              "890          891       3  ...   NaN        Q\n",
              "\n",
              "[891 rows x 11 columns]"
            ]
          },
          "metadata": {
            "tags": []
          },
          "execution_count": 15
        }
      ]
    },
    {
      "cell_type": "code",
      "metadata": {
        "id": "ojc3wZBO_oak",
        "colab_type": "code",
        "outputId": "0c9d8f4c-4e82-4156-be67-3c6cf7d6949b",
        "colab": {
          "base_uri": "https://localhost:8080/",
          "height": 34
        }
      },
      "source": [
        "df_merged= pd.concat(objs=[treino,teste],axis=0).reset_index(drop=True)\n",
        "print('df_merged.shape:({}x{})'.format(df_merged.shape[0],df_merged.shape[1]))"
      ],
      "execution_count": 0,
      "outputs": [
        {
          "output_type": "stream",
          "text": [
            "df_merged.shape:(1309x11)\n"
          ],
          "name": "stdout"
        }
      ]
    },
    {
      "cell_type": "code",
      "metadata": {
        "id": "x7urYqz3BvDM",
        "colab_type": "code",
        "colab": {}
      },
      "source": [
        "df_merged.drop(['PassengerId', 'Name', 'Ticket', 'Cabin'], axis=1, inplace=True)"
      ],
      "execution_count": 0,
      "outputs": []
    },
    {
      "cell_type": "code",
      "metadata": {
        "id": "dDkE7pArGqTL",
        "colab_type": "code",
        "outputId": "e90b891f-f068-48cf-8d48-0565a9fe8f00",
        "colab": {
          "base_uri": "https://localhost:8080/",
          "height": 153
        }
      },
      "source": [
        "df_merged.isnull().sum()"
      ],
      "execution_count": 0,
      "outputs": [
        {
          "output_type": "execute_result",
          "data": {
            "text/plain": [
              "Pclass        0\n",
              "Sex           0\n",
              "Age         263\n",
              "SibSp         0\n",
              "Parch         0\n",
              "Fare          1\n",
              "Embarked      2\n",
              "dtype: int64"
            ]
          },
          "metadata": {
            "tags": []
          },
          "execution_count": 18
        }
      ]
    },
    {
      "cell_type": "code",
      "metadata": {
        "id": "hXJeXwa9G656",
        "colab_type": "code",
        "colab": {}
      },
      "source": [
        "age_median=df_merged['Age'].median()\n",
        "df_merged['Age'].fillna(age_median,inplace=True)"
      ],
      "execution_count": 0,
      "outputs": []
    },
    {
      "cell_type": "code",
      "metadata": {
        "id": "3An05UDKHkgl",
        "colab_type": "code",
        "colab": {}
      },
      "source": [
        "fare_median=df_merged['Fare'].median()\n",
        "df_merged['Fare'].fillna(fare_median,inplace=True)"
      ],
      "execution_count": 0,
      "outputs": []
    },
    {
      "cell_type": "code",
      "metadata": {
        "id": "XW-2QkIHH75n",
        "colab_type": "code",
        "outputId": "e947b2c8-cb25-41a6-a803-c2f880b13f65",
        "colab": {
          "base_uri": "https://localhost:8080/",
          "height": 34
        }
      },
      "source": [
        "embarked_top=df_merged['Embarked'].value_counts()[0]\n",
        "embarked_top"
      ],
      "execution_count": 0,
      "outputs": [
        {
          "output_type": "execute_result",
          "data": {
            "text/plain": [
              "914"
            ]
          },
          "metadata": {
            "tags": []
          },
          "execution_count": 21
        }
      ]
    },
    {
      "cell_type": "code",
      "metadata": {
        "id": "ZxrNdFumIeMp",
        "colab_type": "code",
        "colab": {}
      },
      "source": [
        "df_merged['Embarked'].fillna(embarked_top,inplace=True)"
      ],
      "execution_count": 0,
      "outputs": []
    },
    {
      "cell_type": "code",
      "metadata": {
        "id": "Oo90eOD9HmIS",
        "colab_type": "code",
        "outputId": "697ada70-36b9-4862-dd8a-f7b43de4209e",
        "colab": {
          "base_uri": "https://localhost:8080/",
          "height": 153
        }
      },
      "source": [
        "df_merged.isnull().sum()"
      ],
      "execution_count": 0,
      "outputs": [
        {
          "output_type": "execute_result",
          "data": {
            "text/plain": [
              "Pclass      0\n",
              "Sex         0\n",
              "Age         0\n",
              "SibSp       0\n",
              "Parch       0\n",
              "Fare        0\n",
              "Embarked    0\n",
              "dtype: int64"
            ]
          },
          "metadata": {
            "tags": []
          },
          "execution_count": 23
        }
      ]
    },
    {
      "cell_type": "code",
      "metadata": {
        "id": "WukoeYDWHyeX",
        "colab_type": "code",
        "colab": {}
      },
      "source": [
        "df_merged['Sex']=df_merged['Sex'].map({'male':0,'female':1})"
      ],
      "execution_count": 0,
      "outputs": []
    },
    {
      "cell_type": "code",
      "metadata": {
        "id": "45FHS75tJVkP",
        "colab_type": "code",
        "outputId": "e91923df-9e61-41fe-b4e4-3410f2f66492",
        "colab": {
          "base_uri": "https://localhost:8080/",
          "height": 204
        }
      },
      "source": [
        "embarked_dummies=pd.get_dummies(df_merged['Embarked'],prefix='Embarked')\n",
        "df_merged=pd.concat([df_merged,embarked_dummies],axis=1)\n",
        "df_merged.drop('Embarked',axis=1,inplace=True)\n",
        "\n",
        "display(df_merged.head())"
      ],
      "execution_count": 0,
      "outputs": [
        {
          "output_type": "display_data",
          "data": {
            "text/html": [
              "<div>\n",
              "<style scoped>\n",
              "    .dataframe tbody tr th:only-of-type {\n",
              "        vertical-align: middle;\n",
              "    }\n",
              "\n",
              "    .dataframe tbody tr th {\n",
              "        vertical-align: top;\n",
              "    }\n",
              "\n",
              "    .dataframe thead th {\n",
              "        text-align: right;\n",
              "    }\n",
              "</style>\n",
              "<table border=\"1\" class=\"dataframe\">\n",
              "  <thead>\n",
              "    <tr style=\"text-align: right;\">\n",
              "      <th></th>\n",
              "      <th>Pclass</th>\n",
              "      <th>Sex</th>\n",
              "      <th>Age</th>\n",
              "      <th>SibSp</th>\n",
              "      <th>Parch</th>\n",
              "      <th>Fare</th>\n",
              "      <th>Embarked_914</th>\n",
              "      <th>Embarked_C</th>\n",
              "      <th>Embarked_Q</th>\n",
              "      <th>Embarked_S</th>\n",
              "    </tr>\n",
              "  </thead>\n",
              "  <tbody>\n",
              "    <tr>\n",
              "      <th>0</th>\n",
              "      <td>3</td>\n",
              "      <td>0</td>\n",
              "      <td>22.0</td>\n",
              "      <td>1</td>\n",
              "      <td>0</td>\n",
              "      <td>7.2500</td>\n",
              "      <td>0</td>\n",
              "      <td>0</td>\n",
              "      <td>0</td>\n",
              "      <td>1</td>\n",
              "    </tr>\n",
              "    <tr>\n",
              "      <th>1</th>\n",
              "      <td>1</td>\n",
              "      <td>1</td>\n",
              "      <td>38.0</td>\n",
              "      <td>1</td>\n",
              "      <td>0</td>\n",
              "      <td>71.2833</td>\n",
              "      <td>0</td>\n",
              "      <td>1</td>\n",
              "      <td>0</td>\n",
              "      <td>0</td>\n",
              "    </tr>\n",
              "    <tr>\n",
              "      <th>2</th>\n",
              "      <td>3</td>\n",
              "      <td>1</td>\n",
              "      <td>26.0</td>\n",
              "      <td>0</td>\n",
              "      <td>0</td>\n",
              "      <td>7.9250</td>\n",
              "      <td>0</td>\n",
              "      <td>0</td>\n",
              "      <td>0</td>\n",
              "      <td>1</td>\n",
              "    </tr>\n",
              "    <tr>\n",
              "      <th>3</th>\n",
              "      <td>1</td>\n",
              "      <td>1</td>\n",
              "      <td>35.0</td>\n",
              "      <td>1</td>\n",
              "      <td>0</td>\n",
              "      <td>53.1000</td>\n",
              "      <td>0</td>\n",
              "      <td>0</td>\n",
              "      <td>0</td>\n",
              "      <td>1</td>\n",
              "    </tr>\n",
              "    <tr>\n",
              "      <th>4</th>\n",
              "      <td>3</td>\n",
              "      <td>0</td>\n",
              "      <td>35.0</td>\n",
              "      <td>0</td>\n",
              "      <td>0</td>\n",
              "      <td>8.0500</td>\n",
              "      <td>0</td>\n",
              "      <td>0</td>\n",
              "      <td>0</td>\n",
              "      <td>1</td>\n",
              "    </tr>\n",
              "  </tbody>\n",
              "</table>\n",
              "</div>"
            ],
            "text/plain": [
              "   Pclass  Sex   Age  SibSp  ...  Embarked_914  Embarked_C  Embarked_Q  Embarked_S\n",
              "0       3    0  22.0      1  ...             0           0           0           1\n",
              "1       1    1  38.0      1  ...             0           1           0           0\n",
              "2       3    1  26.0      0  ...             0           0           0           1\n",
              "3       1    1  35.0      1  ...             0           0           0           1\n",
              "4       3    0  35.0      0  ...             0           0           0           1\n",
              "\n",
              "[5 rows x 10 columns]"
            ]
          },
          "metadata": {
            "tags": []
          }
        }
      ]
    },
    {
      "cell_type": "code",
      "metadata": {
        "id": "NSXnVe0QKL9w",
        "colab_type": "code",
        "colab": {}
      },
      "source": [
        "train= df_merged.iloc[:treino_idx]\n",
        "test= df_merged.iloc[treino_idx:]"
      ],
      "execution_count": 0,
      "outputs": []
    },
    {
      "cell_type": "markdown",
      "metadata": {
        "id": "QeBJSl_ZK6_V",
        "colab_type": "text"
      },
      "source": [
        "# Modelo de Regressão Logística"
      ]
    },
    {
      "cell_type": "code",
      "metadata": {
        "id": "ADdoPtCILAps",
        "colab_type": "code",
        "colab": {}
      },
      "source": [
        "from sklearn.linear_model import LogisticRegression\n",
        "from sklearn.tree import DecisionTreeClassifier"
      ],
      "execution_count": 0,
      "outputs": []
    },
    {
      "cell_type": "code",
      "metadata": {
        "id": "Cbiq8wZYLL4a",
        "colab_type": "code",
        "outputId": "b7270027-659e-43d6-c932-168d8c36f43c",
        "colab": {
          "base_uri": "https://localhost:8080/",
          "height": 102
        }
      },
      "source": [
        "lr_model=LogisticRegression(solver='liblinear')\n",
        "lr_model.fit(train,target)\n",
        "\n"
      ],
      "execution_count": 0,
      "outputs": [
        {
          "output_type": "execute_result",
          "data": {
            "text/plain": [
              "LogisticRegression(C=1.0, class_weight=None, dual=False, fit_intercept=True,\n",
              "                   intercept_scaling=1, l1_ratio=None, max_iter=100,\n",
              "                   multi_class='auto', n_jobs=None, penalty='l2',\n",
              "                   random_state=None, solver='liblinear', tol=0.0001, verbose=0,\n",
              "                   warm_start=False)"
            ]
          },
          "metadata": {
            "tags": []
          },
          "execution_count": 33
        }
      ]
    },
    {
      "cell_type": "code",
      "metadata": {
        "id": "AuFgwlPHLjSP",
        "colab_type": "code",
        "outputId": "ed373221-8c17-4691-811b-6d09452fa2aa",
        "colab": {
          "base_uri": "https://localhost:8080/",
          "height": 34
        }
      },
      "source": [
        "acc_logReg=round(lr_model.score(train,target)*100,2)\n",
        "print(\"Acurácia do modelo de Regressão Logística: {}\".format(acc_logReg))"
      ],
      "execution_count": 0,
      "outputs": [
        {
          "output_type": "stream",
          "text": [
            "Acurácia do modelo de Regressão Logística: 80.13\n"
          ],
          "name": "stdout"
        }
      ]
    },
    {
      "cell_type": "code",
      "metadata": {
        "id": "Lz3Vm92JL1u6",
        "colab_type": "code",
        "colab": {}
      },
      "source": [
        "pred_lr=lr_model.predict(test)\n",
        "\n",
        "submission=pd.DataFrame({\n",
        "    \"PassengerId\":passageiroId,\n",
        "    \"Survived\":pred_lr\n",
        "})\n",
        "\n",
        "submission.to_csv('submission_tree.csv',index=False)\n"
      ],
      "execution_count": 0,
      "outputs": []
    },
    {
      "cell_type": "code",
      "metadata": {
        "id": "GDop3To8d-ft",
        "colab_type": "code",
        "outputId": "109ce6c2-b04e-4317-de14-696a1f6fe520",
        "colab": {
          "base_uri": "https://localhost:8080/",
          "height": 119
        }
      },
      "source": [
        "tree_model= DecisionTreeClassifier(max_depth=3)\n",
        "tree_model.fit(train,target)"
      ],
      "execution_count": 0,
      "outputs": [
        {
          "output_type": "execute_result",
          "data": {
            "text/plain": [
              "DecisionTreeClassifier(ccp_alpha=0.0, class_weight=None, criterion='gini',\n",
              "                       max_depth=3, max_features=None, max_leaf_nodes=None,\n",
              "                       min_impurity_decrease=0.0, min_impurity_split=None,\n",
              "                       min_samples_leaf=1, min_samples_split=2,\n",
              "                       min_weight_fraction_leaf=0.0, presort='deprecated',\n",
              "                       random_state=None, splitter='best')"
            ]
          },
          "metadata": {
            "tags": []
          },
          "execution_count": 37
        }
      ]
    },
    {
      "cell_type": "code",
      "metadata": {
        "id": "mNco8N6yh-Vy",
        "colab_type": "code",
        "outputId": "f5a72417-447f-4df5-8971-c26f565b265d",
        "colab": {
          "base_uri": "https://localhost:8080/",
          "height": 34
        }
      },
      "source": [
        "acc_tree=round(tree_model.score(train,target)*100,2)\n",
        "\n",
        "print('Acurácia do modelo de Árvore de Decisão: {}'.format(acc_tree))"
      ],
      "execution_count": 0,
      "outputs": [
        {
          "output_type": "stream",
          "text": [
            "Acurácia do modelo de Árvore de Decisão: 82.72\n"
          ],
          "name": "stdout"
        }
      ]
    },
    {
      "cell_type": "code",
      "metadata": {
        "id": "ZwVqlqPR3gPy",
        "colab_type": "code",
        "colab": {}
      },
      "source": [
        "\n",
        "y_pred_tree = tree_model.predict(test)\n",
        "\n",
        "submission = pd.DataFrame({\n",
        "    \"PassengerId\": passageiroId,\n",
        "    \"Survived\": y_pred_tree\n",
        "})\n",
        "\n",
        "# gerar arquivo csv\n",
        "submission.to_csv('submission_tree2.csv', index=False)"
      ],
      "execution_count": 0,
      "outputs": []
    },
    {
      "cell_type": "code",
      "metadata": {
        "id": "yZMj-WSU3q6p",
        "colab_type": "code",
        "colab": {}
      },
      "source": [
        "rafael_almeida=np.array([2,0,24,1,1,32.2,0,0,0,1]).reshape((1,-1))\n",
        "jessica_veloso=np.array([2,1,22,1,1,32.2,0,0,0,1]).reshape((1,-1))"
      ],
      "execution_count": 0,
      "outputs": []
    },
    {
      "cell_type": "code",
      "metadata": {
        "id": "ur-ZENcP615D",
        "colab_type": "code",
        "outputId": "83fe4d27-bbe3-43ca-c67c-4a7ab414c41f",
        "colab": {
          "base_uri": "https://localhost:8080/",
          "height": 51
        }
      },
      "source": [
        "print(\"Rafael Almeida:\\t{}\".format(tree_model.predict(rafael_almeida)[0]))\n",
        "print(\"Jessica:\\t{}\".format(tree_model.predict(jessica_veloso)[0]))"
      ],
      "execution_count": 0,
      "outputs": [
        {
          "output_type": "stream",
          "text": [
            "Rafael Almeida:\t0\n",
            "Jessica:\t1\n"
          ],
          "name": "stdout"
        }
      ]
    },
    {
      "cell_type": "code",
      "metadata": {
        "id": "LotTeB1L7Xps",
        "colab_type": "code",
        "colab": {}
      },
      "source": [
        ""
      ],
      "execution_count": 0,
      "outputs": []
    }
  ]
}